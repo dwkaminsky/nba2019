{
 "cells": [
  {
   "cell_type": "code",
   "execution_count": 1,
   "metadata": {},
   "outputs": [],
   "source": [
    "import numpy as np\n",
    "import pandas as pd\n",
    "import matplotlib.pyplot as plt\n",
    "from math import exp\n",
    "#data = pd.read_csv(\"PerMinUnlabeledData.csv\", delimiter = ',')\n",
    "#data = data.drop(['Unnamed: 0','Min'],axis=1)\n",
    "#wins = pd.read_csv(\"WinsForPerMinUnlabeledData.csv\", delimiter = ',')\n",
    "data = pd.read_csv(\"SHOT_DATA.csv\", delimiter = ',')\n",
    "FGM = data['FGM']\n",
    "data = data.drop(['FGM','PTS','player_name'], axis = 1)"
   ]
  },
  {
   "cell_type": "code",
   "execution_count": 3,
   "metadata": {},
   "outputs": [],
   "source": [
    "LAYER_1_SIZE = 10\n",
    "LAYER_2_SIZE = 6\n",
    "LAYER_3_SIZE = 4\n",
    "def correct(x):\n",
    "    for i in range(x.size):\n",
    "        if x[i]<0:\n",
    "            x[i]=0\n",
    "    return x\n",
    "\n",
    "def sigmoid(x):\n",
    "    for i in range(x.size):\n",
    "        x[i] = 1/(1+exp(-x[i]))\n",
    "    return x\n",
    "\n",
    "def sigmoidDerivative(x):\n",
    "    inter = (1/(1+exp(-x)))*(1-(1/(1+exp(-x))))\n",
    "    return inter"
   ]
  },
  {
   "cell_type": "code",
   "execution_count": 5,
   "metadata": {},
   "outputs": [],
   "source": [
    "LAYER_1_WEIGHTS = (np.random.rand(LAYER_1_SIZE,x.size)*2)-1\n",
    "LAYER_2_WEIGHTS = (np.random.rand(LAYER_2_SIZE,LAYER_1_SIZE)*2)-1\n",
    "LAYER_3_WEIGHTS = (np.random.rand(LAYER_3_SIZE,LAYER_2_SIZE)*2)-1\n",
    "OUTPUT_WEIGHTS = (np.random.rand(1,LAYER_3_SIZE)*2)-1"
   ]
  },
  {
   "cell_type": "code",
   "execution_count": 52,
   "metadata": {},
   "outputs": [],
   "source": [
    "def predict(x):\n",
    "    if(x[0].size!=1):\n",
    "        print('input must be 1d array')\n",
    "        return 0\n",
    "    global LAYER_1\n",
    "    global LAYER_2\n",
    "    global LAYER_3\n",
    "    global OUTPUT\n",
    "    global LAYER_2_SIG\n",
    "    global LAYER_3_SIG\n",
    "    LAYER_1 = x*LAYER_1_WEIGHTS\n",
    "    LAYER_1 = np.sum(LAYER_1,axis=1)\n",
    "    LAYER_2 = LAYER_1*LAYER_2_WEIGHTS\n",
    "    LAYER_2 = np.sum(LAYER_2,axis=1)\n",
    "    LAYER_2_SIG = sigmoid(LAYER_2)\n",
    "    LAYER_3 = LAYER_2_SIG*LAYER_3_WEIGHTS\n",
    "    LAYER_3 = np.sum(LAYER_3,axis=1)\n",
    "    LAYER_3_SIG = sigmoid(LAYER_3)\n",
    "    OUTPUT = LAYER_3_SIG*OUTPUT_WEIGHTS\n",
    "    OUTPUT = np.sum(OUTPUT,axis=1)\n",
    "    return OUTPUT[0]\n",
    "\n",
    "def error(input_array,expected_output):\n",
    "    return expected_output - predict(input_array)"
   ]
  },
  {
   "cell_type": "code",
   "execution_count": 6,
   "metadata": {},
   "outputs": [
    {
     "data": {
      "text/plain": [
       "0.8290780194939738"
      ]
     },
     "execution_count": 6,
     "metadata": {},
     "output_type": "execute_result"
    }
   ],
   "source": [
    "x = np.array(data.iloc[4])\n",
    "x = x.astype(float)\n",
    "INPUT = x\n",
    "LAYER_1 = INPUT*LAYER_1_WEIGHTS\n",
    "LAYER_1 = np.sum(LAYER_1,axis=1)\n",
    "LAYER_2 = LAYER_1*LAYER_2_WEIGHTS\n",
    "LAYER_2 = np.sum(LAYER_2,axis=1)\n",
    "LAYER_2_SIG = sigmoid(LAYER_2)\n",
    "LAYER_3 = LAYER_2_SIG*LAYER_3_WEIGHTS\n",
    "LAYER_3 = np.sum(LAYER_3,axis=1)\n",
    "LAYER_3_SIG = sigmoid(LAYER_3)\n",
    "OUTPUT = LAYER_3_SIG*OUTPUT_WEIGHTS\n",
    "OUTPUT = np.sum(OUTPUT,axis=1)\n",
    "INPUT_SIZE = INPUT.size\n",
    "OUTPUT[0]"
   ]
  },
  {
   "cell_type": "code",
   "execution_count": 54,
   "metadata": {},
   "outputs": [],
   "source": [
    "def OutputWeightDerivative(x):\n",
    "    if(x<LAYER_3_SIZE):\n",
    "        return LAYER_3_SIG[x]\n",
    "    print('OUTPUT_WEIGHT_DERIVATIVE_INDEX_OOB')\n",
    "    return 0\n",
    "\n",
    "def Layer3WeightDerivative(x,y):\n",
    "    if(x<LAYER_2_SIZE):\n",
    "        if(y<LAYER_3_SIZE):\n",
    "            d = OUTPUT_WEIGHTS[0][y]*LAYER_2_SIG[x]*sigmoidDerivative(LAYER_3[y])\n",
    "            return d\n",
    "    print('LAYER_3_WEIGHT_DERIVATIVE_INDEX_OOB')\n",
    "    return 0\n",
    "\n",
    "def Layer2WeightDerivative(x,y):\n",
    "    if(x<LAYER_1_SIZE):\n",
    "        if(y<LAYER_2_SIZE):\n",
    "            s = 0\n",
    "            for i in range(LAYER_3_SIZE):\n",
    "                s = s+(OUTPUT_WEIGHTS[0][i]*LAYER_3_WEIGHTS[i][y]*sigmoidDerivative(LAYER_3[i]))\n",
    "            return s*sigmoidDerivative(LAYER_2[y])*LAYER_1[x]\n",
    "    print('LAYER_2_WEIGHT_DERIVATIVE_INDEX_OOB')\n",
    "    return 0\n",
    "\n",
    "def Layer1WeightDerivative(x,y):\n",
    "    if(x<INPUT_SIZE):\n",
    "        if(y<LAYER_1_SIZE):\n",
    "            s = 0\n",
    "            for i in range(LAYER_3_SIZE):\n",
    "                d = 0\n",
    "                for j in range(LAYER_2_SIZE):\n",
    "                    d = d+(INPUT[x]*sigmoidDerivative(LAYER_2[j])*LAYER_3_WEIGHTS[i][j]*LAYER_2_WEIGHTS[j][y])\n",
    "                s = s + (OUTPUT_WEIGHTS[0][i]*sigmoidDerivative(LAYER_3[i])*d)\n",
    "            return s\n",
    "    print('LAYER_1_WEIGHT_DERIVATIVE_INDEX_OOB')\n",
    "    return 0\n",
    "        \n",
    "                "
   ]
  },
  {
   "cell_type": "code",
   "execution_count": 39,
   "metadata": {},
   "outputs": [],
   "source": [
    "deriv1 = np.zeros((LAYER_1_SIZE,INPUT_SIZE))\n",
    "for i in range(INPUT_SIZE):\n",
    "    for j in range(LAYER_1_SIZE):\n",
    "        deriv1[j][i] = Layer1WeightDerivative(i,j)"
   ]
  },
  {
   "cell_type": "code",
   "execution_count": 40,
   "metadata": {},
   "outputs": [],
   "source": [
    "deriv2 = np.zeros((LAYER_2_SIZE,LAYER_1_SIZE))\n",
    "for i in range(LAYER_1_SIZE):\n",
    "    for j in range(LAYER_2_SIZE):\n",
    "        deriv2[j][i] = Layer2WeightDerivative(i,j)"
   ]
  },
  {
   "cell_type": "code",
   "execution_count": 41,
   "metadata": {},
   "outputs": [],
   "source": [
    "deriv3 = np.zeros((LAYER_3_SIZE,LAYER_2_SIZE))\n",
    "for i in range(LAYER_2_SIZE):\n",
    "    for j in range(LAYER_3_SIZE):\n",
    "        deriv3[j][i] = Layer3WeightDerivative(i,j)"
   ]
  },
  {
   "cell_type": "code",
   "execution_count": 48,
   "metadata": {},
   "outputs": [],
   "source": [
    "deriv4 = np.zeros((1,LAYER_3_SIZE))\n",
    "for i in range(LAYER_3_SIZE):\n",
    "    deriv4[0][i] = OutputWeightDerivative(i)"
   ]
  },
  {
   "cell_type": "code",
   "execution_count": 50,
   "metadata": {},
   "outputs": [
    {
     "data": {
      "text/plain": [
       "(1, 4)"
      ]
     },
     "execution_count": 50,
     "metadata": {},
     "output_type": "execute_result"
    }
   ],
   "source": [
    "deriv4.shape"
   ]
  },
  {
   "cell_type": "code",
   "execution_count": 11,
   "metadata": {},
   "outputs": [],
   "source": [
    "ALPHA = 0.01\n",
    "def train(x,EXPECTED_OUTPUT):\n",
    "    e = error(x,EXPECTED_OUTPUT)\n",
    "    deriv1 = np.zeros((LAYER_1_SIZE,INPUT_SIZE))\n",
    "    for i in range(INPUT_SIZE):\n",
    "        for j in range(LAYER_1_SIZE):\n",
    "            deriv1[j][i] = Layer1WeightDerivative(i,j)\n",
    "    deriv2 = np.zeros((LAYER_2_SIZE,LAYER_1_SIZE))\n",
    "    for i in range(LAYER_1_SIZE):\n",
    "        for j in range(LAYER_2_SIZE):\n",
    "            deriv2[j][i] = Layer2WeightDerivative(i,j)\n",
    "    deriv3 = np.zeros((LAYER_3_SIZE,LAYER_2_SIZE))\n",
    "    for i in range(LAYER_2_SIZE):\n",
    "        for j in range(LAYER_3_SIZE):\n",
    "            deriv3[j][i] = Layer3WeightDerivative(i,j)\n",
    "    deriv4 = np.zeros((1,LAYER_3_SIZE))\n",
    "    for i in range(LAYER_3_SIZE):\n",
    "        deriv4[0][i] = OutputWeightDerivative(i)\n",
    "    global LAYER_1_WEIGHTS\n",
    "    LAYER_1_WEIGHTS = LAYER_1_WEIGHTS + (ALPHA*e*deriv1)\n",
    "    global LAYER_2_WEIGHTS\n",
    "    LAYER_2_WEIGHTS = LAYER_2_WEIGHTS + (ALPHA*e*deriv2)\n",
    "    global LAYER_3_WEIGHTS\n",
    "    LAYER_3_WEIGHTS = LAYER_3_WEIGHTS + (ALPHA*e*deriv3) \n",
    "    global OUTPUT_WEIGHTS\n",
    "    OUTPUT_WEIGHTS= OUTPUT_WEIGHTS + (ALPHA*e*deriv4)"
   ]
  },
  {
   "cell_type": "code",
   "execution_count": 10,
   "metadata": {},
   "outputs": [
    {
     "ename": "NameError",
     "evalue": "name 'train' is not defined",
     "output_type": "error",
     "traceback": [
      "\u001b[1;31m---------------------------------------------------------------------------\u001b[0m",
      "\u001b[1;31mNameError\u001b[0m                                 Traceback (most recent call last)",
      "\u001b[1;32m<ipython-input-10-9e70cdfb9d92>\u001b[0m in \u001b[0;36m<module>\u001b[1;34m\u001b[0m\n\u001b[0;32m      2\u001b[0m     \u001b[0mx\u001b[0m \u001b[1;33m=\u001b[0m \u001b[0mnp\u001b[0m\u001b[1;33m.\u001b[0m\u001b[0marray\u001b[0m\u001b[1;33m(\u001b[0m\u001b[0mdata\u001b[0m\u001b[1;33m.\u001b[0m\u001b[0miloc\u001b[0m\u001b[1;33m[\u001b[0m\u001b[0mi\u001b[0m\u001b[1;33m]\u001b[0m\u001b[1;33m)\u001b[0m\u001b[1;33m\u001b[0m\u001b[1;33m\u001b[0m\u001b[0m\n\u001b[0;32m      3\u001b[0m     \u001b[0mx\u001b[0m \u001b[1;33m=\u001b[0m \u001b[0mx\u001b[0m\u001b[1;33m.\u001b[0m\u001b[0mastype\u001b[0m\u001b[1;33m(\u001b[0m\u001b[0mfloat\u001b[0m\u001b[1;33m)\u001b[0m\u001b[1;33m\u001b[0m\u001b[1;33m\u001b[0m\u001b[0m\n\u001b[1;32m----> 4\u001b[1;33m     \u001b[0mtrain\u001b[0m\u001b[1;33m(\u001b[0m\u001b[0mx\u001b[0m\u001b[1;33m,\u001b[0m\u001b[0mFGM\u001b[0m\u001b[1;33m[\u001b[0m\u001b[0mi\u001b[0m\u001b[1;33m]\u001b[0m\u001b[1;33m)\u001b[0m\u001b[1;33m\u001b[0m\u001b[1;33m\u001b[0m\u001b[0m\n\u001b[0m",
      "\u001b[1;31mNameError\u001b[0m: name 'train' is not defined"
     ]
    }
   ],
   "source": [
    "for i in range(1000):\n",
    "    x = np.array(data.iloc[i])\n",
    "    x = x.astype(float)\n",
    "    train(x,FGM[i])"
   ]
  },
  {
   "cell_type": "code",
   "execution_count": 60,
   "metadata": {},
   "outputs": [],
   "source": [
    "s = 0\n",
    "for i in range(5000):\n",
    "    x = np.array(data.iloc[i])\n",
    "    x = x.astype(float)\n",
    "    s = s + abs(error(x,FGM[i]))"
   ]
  },
  {
   "cell_type": "code",
   "execution_count": 61,
   "metadata": {},
   "outputs": [
    {
     "data": {
      "text/plain": [
       "0.47782473342195153"
      ]
     },
     "execution_count": 61,
     "metadata": {},
     "output_type": "execute_result"
    }
   ],
   "source": [
    "s/5000"
   ]
  },
  {
   "cell_type": "code",
   "execution_count": 65,
   "metadata": {},
   "outputs": [],
   "source": [
    "y = np.array([0,0,0,0,0,0,0,0,0,0,0,0])\n",
    "y = y.astype(float)\n",
    "z = [0.1,0.1,1,1,0.1,1,1,1,1,-1,-0.1,0.5]\n",
    "for i in range(12):\n",
    "    x = np.array([0.5,0.5,0,5,2,24,12,3,3,20,0.5,4])\n",
    "    x = x.astype(float)\n",
    "    p = predict(x)\n",
    "    x[i] = x[i] + z[i]\n",
    "    y[i] = y[i] + (predict(x)-p)\n",
    "    x[i] = x[i] - z[i]"
   ]
  },
  {
   "cell_type": "code",
   "execution_count": 110,
   "metadata": {},
   "outputs": [
    {
     "data": {
      "text/plain": [
       "0.29833441678879263"
      ]
     },
     "execution_count": 110,
     "metadata": {},
     "output_type": "execute_result"
    }
   ],
   "source": [
    "x = np.array([0,0,0,0,0,0,0,2,0,25,0,0])\n",
    "x = x.astype(float)\n",
    "predict(x)"
   ]
  },
  {
   "cell_type": "code",
   "execution_count": 100,
   "metadata": {},
   "outputs": [
    {
     "data": {
      "text/plain": [
       "array([0.50541722, 0.72165785, 0.05053444, 0.9058644 , 0.98582897,\n",
       "       0.76385984])"
      ]
     },
     "execution_count": 100,
     "metadata": {},
     "output_type": "execute_result"
    }
   ],
   "source": [
    "LAYER_2"
   ]
  },
  {
   "cell_type": "code",
   "execution_count": 27,
   "metadata": {},
   "outputs": [
    {
     "data": {
      "text/html": [
       "<div>\n",
       "<style scoped>\n",
       "    .dataframe tbody tr th:only-of-type {\n",
       "        vertical-align: middle;\n",
       "    }\n",
       "\n",
       "    .dataframe tbody tr th {\n",
       "        vertical-align: top;\n",
       "    }\n",
       "\n",
       "    .dataframe thead th {\n",
       "        text-align: right;\n",
       "    }\n",
       "</style>\n",
       "<table border=\"1\" class=\"dataframe\">\n",
       "  <thead>\n",
       "    <tr style=\"text-align: right;\">\n",
       "      <th></th>\n",
       "      <th>HOME</th>\n",
       "      <th>WIN</th>\n",
       "      <th>FINAL_MARGIN</th>\n",
       "      <th>SHOT_NUMBER</th>\n",
       "      <th>PERIOD</th>\n",
       "      <th>MIN_LEFT</th>\n",
       "      <th>SHOT_CLOCK</th>\n",
       "      <th>DRIBBLES</th>\n",
       "      <th>TOUCH_TIME</th>\n",
       "      <th>SHOT_DIST</th>\n",
       "      <th>PTS_TYPE</th>\n",
       "      <th>CLOSE_DEF_DIST</th>\n",
       "    </tr>\n",
       "  </thead>\n",
       "  <tbody>\n",
       "    <tr>\n",
       "      <th>0</th>\n",
       "      <td>0</td>\n",
       "      <td>1</td>\n",
       "      <td>24</td>\n",
       "      <td>1</td>\n",
       "      <td>1</td>\n",
       "      <td>37.15</td>\n",
       "      <td>10.8</td>\n",
       "      <td>2</td>\n",
       "      <td>1.9</td>\n",
       "      <td>7.7</td>\n",
       "      <td>0</td>\n",
       "      <td>1.3</td>\n",
       "    </tr>\n",
       "    <tr>\n",
       "      <th>1</th>\n",
       "      <td>0</td>\n",
       "      <td>1</td>\n",
       "      <td>24</td>\n",
       "      <td>2</td>\n",
       "      <td>1</td>\n",
       "      <td>36.23</td>\n",
       "      <td>3.4</td>\n",
       "      <td>0</td>\n",
       "      <td>0.8</td>\n",
       "      <td>28.2</td>\n",
       "      <td>1</td>\n",
       "      <td>6.1</td>\n",
       "    </tr>\n",
       "    <tr>\n",
       "      <th>2</th>\n",
       "      <td>0</td>\n",
       "      <td>1</td>\n",
       "      <td>24</td>\n",
       "      <td>3</td>\n",
       "      <td>1</td>\n",
       "      <td>36.00</td>\n",
       "      <td>0.0</td>\n",
       "      <td>3</td>\n",
       "      <td>2.7</td>\n",
       "      <td>10.1</td>\n",
       "      <td>0</td>\n",
       "      <td>0.9</td>\n",
       "    </tr>\n",
       "    <tr>\n",
       "      <th>3</th>\n",
       "      <td>0</td>\n",
       "      <td>1</td>\n",
       "      <td>24</td>\n",
       "      <td>4</td>\n",
       "      <td>2</td>\n",
       "      <td>35.78</td>\n",
       "      <td>10.3</td>\n",
       "      <td>2</td>\n",
       "      <td>1.9</td>\n",
       "      <td>17.2</td>\n",
       "      <td>0</td>\n",
       "      <td>3.4</td>\n",
       "    </tr>\n",
       "    <tr>\n",
       "      <th>4</th>\n",
       "      <td>0</td>\n",
       "      <td>1</td>\n",
       "      <td>24</td>\n",
       "      <td>5</td>\n",
       "      <td>2</td>\n",
       "      <td>34.57</td>\n",
       "      <td>10.9</td>\n",
       "      <td>2</td>\n",
       "      <td>2.7</td>\n",
       "      <td>3.7</td>\n",
       "      <td>0</td>\n",
       "      <td>1.1</td>\n",
       "    </tr>\n",
       "  </tbody>\n",
       "</table>\n",
       "</div>"
      ],
      "text/plain": [
       "   HOME  WIN  FINAL_MARGIN  SHOT_NUMBER  PERIOD  MIN_LEFT  SHOT_CLOCK  \\\n",
       "0     0    1            24            1       1     37.15        10.8   \n",
       "1     0    1            24            2       1     36.23         3.4   \n",
       "2     0    1            24            3       1     36.00         0.0   \n",
       "3     0    1            24            4       2     35.78        10.3   \n",
       "4     0    1            24            5       2     34.57        10.9   \n",
       "\n",
       "   DRIBBLES  TOUCH_TIME  SHOT_DIST  PTS_TYPE  CLOSE_DEF_DIST  \n",
       "0         2         1.9        7.7         0             1.3  \n",
       "1         0         0.8       28.2         1             6.1  \n",
       "2         3         2.7       10.1         0             0.9  \n",
       "3         2         1.9       17.2         0             3.4  \n",
       "4         2         2.7        3.7         0             1.1  "
      ]
     },
     "execution_count": 27,
     "metadata": {},
     "output_type": "execute_result"
    }
   ],
   "source": [
    "data.head()"
   ]
  },
  {
   "cell_type": "code",
   "execution_count": 2,
   "metadata": {},
   "outputs": [
    {
     "data": {
      "text/plain": [
       "0    1\n",
       "1    0\n",
       "2    0\n",
       "3    0\n",
       "4    0\n",
       "Name: FGM, dtype: int64"
      ]
     },
     "execution_count": 2,
     "metadata": {},
     "output_type": "execute_result"
    }
   ],
   "source": [
    "FGM.head()"
   ]
  },
  {
   "cell_type": "code",
   "execution_count": 238,
   "metadata": {},
   "outputs": [],
   "source": [
    "data.to_csv(\"SHOT_DATA.csv\")"
   ]
  },
  {
   "cell_type": "code",
   "execution_count": 117,
   "metadata": {},
   "outputs": [],
   "source": [
    "LAYER_1 = (np.random.rand(LAYER_1_COUNT,x.size)*2)-1"
   ]
  },
  {
   "cell_type": "code",
   "execution_count": 118,
   "metadata": {},
   "outputs": [
    {
     "data": {
      "text/plain": [
       "array([[-5.63452995e-01,  6.31205036e-01, -6.74895248e-01,\n",
       "        -4.68656786e-01,  9.70603330e-01, -4.31018789e-01,\n",
       "        -8.19071429e-01,  5.03685131e-01, -5.93828686e-01,\n",
       "        -1.74606779e-01,  2.30669064e-01, -3.97306723e-01,\n",
       "         9.13950182e-01,  9.46079526e-01,  6.90410017e-01,\n",
       "        -2.39996000e-01,  6.94483090e-01,  6.41480366e-01,\n",
       "        -8.91439872e-02, -3.84051548e-01],\n",
       "       [-8.10388289e-01, -4.74211927e-01,  8.75234467e-02,\n",
       "        -4.88948571e-01,  6.81424843e-01, -3.38348755e-01,\n",
       "         7.24292261e-01, -4.38948662e-02,  6.34336795e-01,\n",
       "         9.88570433e-01,  6.23529984e-01, -2.63742177e-01,\n",
       "         3.14393702e-01, -1.82556197e-01, -7.79824884e-01,\n",
       "        -5.23239565e-01,  8.03729179e-01,  6.54280490e-02,\n",
       "        -1.92808270e-01, -6.91391467e-01],\n",
       "       [-4.33127635e-01,  3.04977654e-01, -4.22590083e-01,\n",
       "         8.39613444e-01,  8.63794627e-01,  4.84301677e-01,\n",
       "         3.34542946e-01,  8.72479406e-01, -4.62752391e-01,\n",
       "         9.71830963e-01,  7.24680653e-01, -9.61945541e-01,\n",
       "        -4.49464888e-01,  2.04755863e-01, -5.37551467e-01,\n",
       "         3.80640684e-01, -8.00333175e-01, -1.30777120e-01,\n",
       "        -2.22321882e-01, -1.41514093e-01],\n",
       "       [-7.56546375e-01, -5.06954376e-01,  7.27603322e-01,\n",
       "         7.11816463e-01, -7.60900248e-01,  1.70358539e-02,\n",
       "        -1.59516028e-01,  5.49051516e-02, -5.52328636e-01,\n",
       "         2.41364812e-01, -9.64236325e-01, -8.15216949e-01,\n",
       "        -9.74759676e-01, -1.21507319e-02, -3.11991220e-01,\n",
       "         2.10762478e-01, -7.56156262e-02, -7.58161313e-02,\n",
       "         2.00373869e-01, -8.11015296e-01],\n",
       "       [ 2.27187412e-01,  7.44044865e-01,  1.85633024e-01,\n",
       "         4.53061847e-01, -9.25964971e-01, -9.23515148e-01,\n",
       "        -4.16361545e-01,  5.91897562e-01,  6.10470889e-01,\n",
       "         9.75423409e-01, -3.88427742e-01, -8.33841753e-01,\n",
       "         4.62144538e-01, -2.89821750e-01,  8.85684163e-02,\n",
       "        -6.77548851e-01, -3.33948736e-01,  1.16098556e-01,\n",
       "         6.17512050e-01, -4.70229295e-01],\n",
       "       [ 6.04951011e-01,  8.01069089e-02,  1.69115618e-01,\n",
       "         9.40218316e-01,  4.81446371e-02,  9.02350808e-01,\n",
       "        -4.63584457e-01,  4.38619513e-01, -7.47910266e-01,\n",
       "         9.52613633e-01,  6.31568563e-01, -2.16127325e-01,\n",
       "         1.76695959e-01, -5.61624085e-01, -9.99723888e-01,\n",
       "         3.97040297e-01,  6.84498325e-01, -4.84112877e-01,\n",
       "        -5.89998767e-01, -2.39101209e-01],\n",
       "       [-5.97193512e-01, -3.77818368e-01,  6.12042073e-01,\n",
       "         8.30087128e-01, -9.18174135e-01, -8.59405362e-01,\n",
       "        -1.22520867e-01, -6.86096580e-01,  9.14461434e-01,\n",
       "         3.90179185e-01, -7.51824271e-01,  8.56867959e-01,\n",
       "         7.04081692e-01,  4.75583163e-02, -4.79424453e-02,\n",
       "        -3.92671193e-01, -9.70432326e-01, -1.08795194e-01,\n",
       "        -2.64241290e-01,  2.13234237e-02],\n",
       "       [ 8.78329666e-01, -5.29088794e-01,  8.24125560e-02,\n",
       "         1.73059389e-01, -4.73056158e-01, -4.38775360e-02,\n",
       "        -1.24733795e-01, -1.50368537e-01, -6.54396115e-01,\n",
       "         7.63563037e-01, -4.82119520e-01,  3.37207815e-01,\n",
       "        -3.20989225e-01,  3.61400585e-01,  2.88472338e-02,\n",
       "        -1.23619944e-01,  6.62353047e-01, -8.46631716e-01,\n",
       "         3.19074878e-01, -7.18354717e-01],\n",
       "       [-4.36162386e-01,  9.66819935e-01,  1.68860272e-01,\n",
       "        -8.49641749e-01, -4.81610082e-01,  2.07195526e-01,\n",
       "        -9.95998166e-01,  1.86659017e-01,  2.15149449e-02,\n",
       "        -1.17522731e-01,  6.22165620e-01, -9.67176605e-01,\n",
       "         9.07108768e-01,  6.26321796e-03,  8.25503648e-01,\n",
       "         3.18584240e-01,  1.28846508e-01, -4.23879816e-01,\n",
       "        -6.75504777e-01,  8.41624775e-02],\n",
       "       [-9.28462224e-01, -3.46278057e-01,  1.56902449e-01,\n",
       "         3.52872404e-01, -4.26327295e-01, -8.45098675e-01,\n",
       "        -9.70461224e-01,  8.88329333e-01,  1.57407915e-01,\n",
       "        -6.19897901e-01,  1.48294701e-01,  8.01304122e-01,\n",
       "         2.48954306e-01,  1.93131928e-02,  1.32959244e-01,\n",
       "         7.86593490e-01,  4.70067151e-01, -2.39706884e-01,\n",
       "         6.75457346e-01, -3.14231193e-01],\n",
       "       [-1.87494524e-01,  1.59416478e-01, -9.23234534e-01,\n",
       "         6.37110225e-01, -2.36180301e-01, -8.92326862e-01,\n",
       "         2.86427980e-01,  2.55079197e-01, -5.02059789e-01,\n",
       "        -5.18083215e-02,  9.25484541e-01,  8.35771933e-01,\n",
       "        -7.79906215e-01,  6.09741706e-01, -4.14573934e-01,\n",
       "         5.79394658e-01,  7.11520364e-01, -6.51840658e-01,\n",
       "        -7.93508942e-01,  1.51469733e-01],\n",
       "       [-8.24223040e-01,  5.57749806e-01, -7.15373310e-01,\n",
       "         9.50412364e-01, -8.81387058e-01, -2.72984906e-01,\n",
       "         2.34520378e-01,  4.74953487e-01, -5.32700587e-01,\n",
       "         6.32332547e-01,  5.02640137e-01, -9.42268619e-01,\n",
       "         6.21842929e-01, -6.48041533e-01, -1.79447181e-01,\n",
       "        -7.96345646e-01, -7.69690364e-01,  7.29088365e-02,\n",
       "         1.24164177e-01, -9.44351296e-01],\n",
       "       [ 4.04749001e-01, -6.54585817e-01, -5.44010172e-01,\n",
       "         9.74359817e-01, -1.08567074e-01,  1.40997301e-01,\n",
       "         8.46830067e-01,  8.25714623e-01,  8.77040433e-01,\n",
       "         3.67160272e-01, -3.23940995e-01,  4.81687897e-01,\n",
       "        -7.95222890e-01, -1.53238608e-01,  3.56577712e-02,\n",
       "        -1.56295870e-01, -7.89721378e-01,  6.10446376e-01,\n",
       "        -8.58895118e-01, -8.44552673e-02],\n",
       "       [ 4.62135050e-01,  4.24501501e-01, -2.07696728e-01,\n",
       "        -1.29316652e-01, -9.44809201e-01, -3.57332461e-01,\n",
       "        -4.34987936e-01,  5.04589365e-01, -6.20834753e-01,\n",
       "         1.60194354e-01,  3.84867823e-02, -6.21126048e-05,\n",
       "         5.36033449e-01, -3.20218159e-01, -3.78023393e-01,\n",
       "        -7.15207715e-01, -2.13866933e-01, -5.56195769e-01,\n",
       "         2.11816128e-01,  2.97861552e-02],\n",
       "       [-9.18479497e-01,  5.89414570e-01, -6.62394127e-02,\n",
       "        -3.83016287e-01,  7.77932353e-01, -5.68542966e-01,\n",
       "         7.85100739e-01,  8.01743550e-01, -1.18372724e-01,\n",
       "         8.69152940e-01,  7.11927632e-01,  7.75798873e-01,\n",
       "        -1.46852945e-01,  6.79321182e-01, -7.68429398e-01,\n",
       "        -8.41916135e-01, -8.09640790e-01,  5.64789271e-01,\n",
       "         6.34844166e-01,  6.06704420e-01],\n",
       "       [ 4.36260074e-01, -9.54275333e-03, -7.47124782e-01,\n",
       "        -8.15120056e-01, -6.13205276e-01,  2.98468392e-01,\n",
       "         8.37599784e-01,  3.31429085e-01,  7.35424761e-01,\n",
       "         6.73521240e-01,  8.50759839e-01, -7.32920162e-01,\n",
       "         5.30808702e-01, -1.22606363e-01, -3.55795489e-01,\n",
       "         8.99163760e-01,  2.76522721e-01, -7.26118304e-01,\n",
       "         2.23791737e-01,  5.39959295e-01],\n",
       "       [ 1.62680333e-02,  6.93463960e-01,  7.75200486e-01,\n",
       "         6.51972173e-01, -7.10152398e-01,  9.65586548e-01,\n",
       "         4.32569790e-01, -3.51069657e-01, -4.77335076e-01,\n",
       "         7.22766513e-01,  3.85420791e-01,  8.26579909e-01,\n",
       "         4.84777048e-01, -3.95673091e-01, -5.99582770e-01,\n",
       "         2.50297284e-01,  6.28944706e-01, -9.34930309e-01,\n",
       "        -3.99467226e-01, -5.17702360e-01],\n",
       "       [ 8.64993645e-01, -2.84741111e-03, -1.60099796e-01,\n",
       "         8.18376279e-01,  5.48202699e-01, -4.81890593e-01,\n",
       "         6.09549499e-01, -6.35329387e-01,  2.39988307e-01,\n",
       "         8.91477371e-01,  3.45202986e-01,  6.40180174e-01,\n",
       "         9.81341371e-01,  9.91612299e-01, -8.44495513e-01,\n",
       "        -2.05407201e-01, -3.51077349e-01,  9.58992057e-01,\n",
       "         9.33808506e-01,  7.50906885e-01],\n",
       "       [-1.62887267e-01, -9.85050935e-01, -1.80811152e-01,\n",
       "         2.27443836e-01, -4.56682371e-01, -1.10915088e-02,\n",
       "         9.60528672e-01,  5.86731533e-01,  2.62254246e-01,\n",
       "        -3.92998655e-01, -9.91704880e-01, -3.13873308e-01,\n",
       "        -9.74945133e-01, -2.99746894e-01,  2.65194237e-01,\n",
       "        -7.39885549e-01, -7.41190255e-02, -6.34729491e-01,\n",
       "        -1.15968308e-01,  7.42749418e-01],\n",
       "       [-5.52073144e-01,  6.90128957e-01,  1.91864035e-01,\n",
       "         6.73053127e-01,  3.49488351e-01, -8.42424499e-01,\n",
       "         8.71998410e-01,  9.30799348e-01,  9.42511455e-01,\n",
       "        -1.67302873e-01,  8.58453854e-01, -5.28057126e-01,\n",
       "         2.61732711e-01, -9.69050245e-01, -8.79244028e-01,\n",
       "        -1.05823430e-01,  6.40646308e-01,  8.09883104e-01,\n",
       "         8.01730365e-05, -8.26207150e-01]])"
      ]
     },
     "execution_count": 118,
     "metadata": {},
     "output_type": "execute_result"
    }
   ],
   "source": [
    "y"
   ]
  },
  {
   "cell_type": "code",
   "execution_count": 138,
   "metadata": {},
   "outputs": [
    {
     "data": {
      "text/html": [
       "<div>\n",
       "<style scoped>\n",
       "    .dataframe tbody tr th:only-of-type {\n",
       "        vertical-align: middle;\n",
       "    }\n",
       "\n",
       "    .dataframe tbody tr th {\n",
       "        vertical-align: top;\n",
       "    }\n",
       "\n",
       "    .dataframe thead th {\n",
       "        text-align: right;\n",
       "    }\n",
       "</style>\n",
       "<table border=\"1\" class=\"dataframe\">\n",
       "  <thead>\n",
       "    <tr style=\"text-align: right;\">\n",
       "      <th></th>\n",
       "      <th>FGM</th>\n",
       "      <th>FGA</th>\n",
       "      <th>FTM</th>\n",
       "      <th>FTA</th>\n",
       "      <th>TPM</th>\n",
       "      <th>TPA</th>\n",
       "      <th>ORB</th>\n",
       "      <th>DRB</th>\n",
       "      <th>AST</th>\n",
       "      <th>STL</th>\n",
       "      <th>TO</th>\n",
       "      <th>BLK</th>\n",
       "      <th>PTS</th>\n",
       "      <th>PFS</th>\n",
       "    </tr>\n",
       "  </thead>\n",
       "  <tbody>\n",
       "    <tr>\n",
       "      <th>0</th>\n",
       "      <td>-0.092437</td>\n",
       "      <td>-0.269193</td>\n",
       "      <td>-0.846154</td>\n",
       "      <td>-0.869048</td>\n",
       "      <td>-1.0</td>\n",
       "      <td>-1.0</td>\n",
       "      <td>-0.826840</td>\n",
       "      <td>-0.205195</td>\n",
       "      <td>-0.867725</td>\n",
       "      <td>-0.455782</td>\n",
       "      <td>-0.476190</td>\n",
       "      <td>-0.555556</td>\n",
       "      <td>-0.247432</td>\n",
       "      <td>-0.365079</td>\n",
       "    </tr>\n",
       "    <tr>\n",
       "      <th>1</th>\n",
       "      <td>0.111765</td>\n",
       "      <td>0.055102</td>\n",
       "      <td>-0.515385</td>\n",
       "      <td>-0.450000</td>\n",
       "      <td>-1.0</td>\n",
       "      <td>-1.0</td>\n",
       "      <td>0.090909</td>\n",
       "      <td>0.084463</td>\n",
       "      <td>-1.000000</td>\n",
       "      <td>-0.428571</td>\n",
       "      <td>-0.725000</td>\n",
       "      <td>-1.000000</td>\n",
       "      <td>0.033333</td>\n",
       "      <td>-0.666667</td>\n",
       "    </tr>\n",
       "    <tr>\n",
       "      <th>2</th>\n",
       "      <td>-0.092437</td>\n",
       "      <td>-0.086492</td>\n",
       "      <td>-0.230769</td>\n",
       "      <td>-0.345238</td>\n",
       "      <td>-1.0</td>\n",
       "      <td>-1.0</td>\n",
       "      <td>-1.000000</td>\n",
       "      <td>-0.451712</td>\n",
       "      <td>-0.867725</td>\n",
       "      <td>-1.000000</td>\n",
       "      <td>-0.214286</td>\n",
       "      <td>-1.000000</td>\n",
       "      <td>-0.015873</td>\n",
       "      <td>0.587302</td>\n",
       "    </tr>\n",
       "    <tr>\n",
       "      <th>3</th>\n",
       "      <td>-0.164087</td>\n",
       "      <td>0.060150</td>\n",
       "      <td>-1.000000</td>\n",
       "      <td>-0.927632</td>\n",
       "      <td>-1.0</td>\n",
       "      <td>-1.0</td>\n",
       "      <td>-0.617225</td>\n",
       "      <td>-0.344672</td>\n",
       "      <td>-0.926901</td>\n",
       "      <td>-0.849624</td>\n",
       "      <td>-0.855263</td>\n",
       "      <td>-0.877193</td>\n",
       "      <td>-0.360165</td>\n",
       "      <td>-0.649123</td>\n",
       "    </tr>\n",
       "    <tr>\n",
       "      <th>4</th>\n",
       "      <td>-0.364706</td>\n",
       "      <td>-0.309388</td>\n",
       "      <td>-0.483077</td>\n",
       "      <td>-0.450000</td>\n",
       "      <td>-1.0</td>\n",
       "      <td>-1.0</td>\n",
       "      <td>-0.709091</td>\n",
       "      <td>-0.614413</td>\n",
       "      <td>-1.000000</td>\n",
       "      <td>-1.000000</td>\n",
       "      <td>-0.780000</td>\n",
       "      <td>-1.000000</td>\n",
       "      <td>-0.319216</td>\n",
       "      <td>-0.200000</td>\n",
       "    </tr>\n",
       "  </tbody>\n",
       "</table>\n",
       "</div>"
      ],
      "text/plain": [
       "        FGM       FGA       FTM       FTA  TPM  TPA       ORB       DRB  \\\n",
       "0 -0.092437 -0.269193 -0.846154 -0.869048 -1.0 -1.0 -0.826840 -0.205195   \n",
       "1  0.111765  0.055102 -0.515385 -0.450000 -1.0 -1.0  0.090909  0.084463   \n",
       "2 -0.092437 -0.086492 -0.230769 -0.345238 -1.0 -1.0 -1.000000 -0.451712   \n",
       "3 -0.164087  0.060150 -1.000000 -0.927632 -1.0 -1.0 -0.617225 -0.344672   \n",
       "4 -0.364706 -0.309388 -0.483077 -0.450000 -1.0 -1.0 -0.709091 -0.614413   \n",
       "\n",
       "        AST       STL        TO       BLK       PTS       PFS  \n",
       "0 -0.867725 -0.455782 -0.476190 -0.555556 -0.247432 -0.365079  \n",
       "1 -1.000000 -0.428571 -0.725000 -1.000000  0.033333 -0.666667  \n",
       "2 -0.867725 -1.000000 -0.214286 -1.000000 -0.015873  0.587302  \n",
       "3 -0.926901 -0.849624 -0.855263 -0.877193 -0.360165 -0.649123  \n",
       "4 -1.000000 -1.000000 -0.780000 -1.000000 -0.319216 -0.200000  "
      ]
     },
     "execution_count": 138,
     "metadata": {},
     "output_type": "execute_result"
    }
   ],
   "source": [
    "data.head()"
   ]
  },
  {
   "cell_type": "code",
   "execution_count": 234,
   "metadata": {},
   "outputs": [],
   "source": [
    "data = data.drop(['SHOT_RESULT'],axis=1)"
   ]
  },
  {
   "cell_type": "code",
   "execution_count": 7,
   "metadata": {},
   "outputs": [
    {
     "data": {
      "text/html": [
       "<div>\n",
       "<style scoped>\n",
       "    .dataframe tbody tr th:only-of-type {\n",
       "        vertical-align: middle;\n",
       "    }\n",
       "\n",
       "    .dataframe tbody tr th {\n",
       "        vertical-align: top;\n",
       "    }\n",
       "\n",
       "    .dataframe thead th {\n",
       "        text-align: right;\n",
       "    }\n",
       "</style>\n",
       "<table border=\"1\" class=\"dataframe\">\n",
       "  <thead>\n",
       "    <tr style=\"text-align: right;\">\n",
       "      <th></th>\n",
       "      <th>HOME</th>\n",
       "      <th>WIN</th>\n",
       "      <th>FINAL_MARGIN</th>\n",
       "      <th>SHOT_NUMBER</th>\n",
       "      <th>PERIOD</th>\n",
       "      <th>MIN_LEFT</th>\n",
       "      <th>SHOT_CLOCK</th>\n",
       "      <th>DRIBBLES</th>\n",
       "      <th>TOUCH_TIME</th>\n",
       "      <th>SHOT_DIST</th>\n",
       "      <th>PTS_TYPE</th>\n",
       "      <th>CLOSE_DEF_DIST</th>\n",
       "    </tr>\n",
       "  </thead>\n",
       "  <tbody>\n",
       "    <tr>\n",
       "      <th>0</th>\n",
       "      <td>0</td>\n",
       "      <td>1</td>\n",
       "      <td>24</td>\n",
       "      <td>1</td>\n",
       "      <td>1</td>\n",
       "      <td>37.15</td>\n",
       "      <td>10.8</td>\n",
       "      <td>2</td>\n",
       "      <td>1.9</td>\n",
       "      <td>7.7</td>\n",
       "      <td>2</td>\n",
       "      <td>1.3</td>\n",
       "    </tr>\n",
       "    <tr>\n",
       "      <th>1</th>\n",
       "      <td>0</td>\n",
       "      <td>1</td>\n",
       "      <td>24</td>\n",
       "      <td>2</td>\n",
       "      <td>1</td>\n",
       "      <td>36.23</td>\n",
       "      <td>3.4</td>\n",
       "      <td>0</td>\n",
       "      <td>0.8</td>\n",
       "      <td>28.2</td>\n",
       "      <td>3</td>\n",
       "      <td>6.1</td>\n",
       "    </tr>\n",
       "    <tr>\n",
       "      <th>2</th>\n",
       "      <td>0</td>\n",
       "      <td>1</td>\n",
       "      <td>24</td>\n",
       "      <td>3</td>\n",
       "      <td>1</td>\n",
       "      <td>36.00</td>\n",
       "      <td>0.0</td>\n",
       "      <td>3</td>\n",
       "      <td>2.7</td>\n",
       "      <td>10.1</td>\n",
       "      <td>2</td>\n",
       "      <td>0.9</td>\n",
       "    </tr>\n",
       "    <tr>\n",
       "      <th>3</th>\n",
       "      <td>0</td>\n",
       "      <td>1</td>\n",
       "      <td>24</td>\n",
       "      <td>4</td>\n",
       "      <td>2</td>\n",
       "      <td>35.78</td>\n",
       "      <td>10.3</td>\n",
       "      <td>2</td>\n",
       "      <td>1.9</td>\n",
       "      <td>17.2</td>\n",
       "      <td>2</td>\n",
       "      <td>3.4</td>\n",
       "    </tr>\n",
       "    <tr>\n",
       "      <th>4</th>\n",
       "      <td>0</td>\n",
       "      <td>1</td>\n",
       "      <td>24</td>\n",
       "      <td>5</td>\n",
       "      <td>2</td>\n",
       "      <td>34.57</td>\n",
       "      <td>10.9</td>\n",
       "      <td>2</td>\n",
       "      <td>2.7</td>\n",
       "      <td>3.7</td>\n",
       "      <td>2</td>\n",
       "      <td>1.1</td>\n",
       "    </tr>\n",
       "  </tbody>\n",
       "</table>\n",
       "</div>"
      ],
      "text/plain": [
       "   HOME  WIN  FINAL_MARGIN  SHOT_NUMBER  PERIOD  MIN_LEFT  SHOT_CLOCK  \\\n",
       "0     0    1            24            1       1     37.15        10.8   \n",
       "1     0    1            24            2       1     36.23         3.4   \n",
       "2     0    1            24            3       1     36.00         0.0   \n",
       "3     0    1            24            4       2     35.78        10.3   \n",
       "4     0    1            24            5       2     34.57        10.9   \n",
       "\n",
       "   DRIBBLES  TOUCH_TIME  SHOT_DIST  PTS_TYPE  CLOSE_DEF_DIST  \n",
       "0         2         1.9        7.7         2             1.3  \n",
       "1         0         0.8       28.2         3             6.1  \n",
       "2         3         2.7       10.1         2             0.9  \n",
       "3         2         1.9       17.2         2             3.4  \n",
       "4         2         2.7        3.7         2             1.1  "
      ]
     },
     "execution_count": 7,
     "metadata": {},
     "output_type": "execute_result"
    }
   ],
   "source": [
    "data.head()"
   ]
  },
  {
   "cell_type": "code",
   "execution_count": 237,
   "metadata": {},
   "outputs": [
    {
     "data": {
      "text/plain": [
       "'1:09'"
      ]
     },
     "execution_count": 237,
     "metadata": {},
     "output_type": "execute_result"
    }
   ],
   "source": [
    "data['GAME_CLOCK'][0]"
   ]
  },
  {
   "cell_type": "code",
   "execution_count": null,
   "metadata": {},
   "outputs": [],
   "source": []
  }
 ],
 "metadata": {
  "kernelspec": {
   "display_name": "Python 3",
   "language": "python",
   "name": "python3"
  },
  "language_info": {
   "codemirror_mode": {
    "name": "ipython",
    "version": 3
   },
   "file_extension": ".py",
   "mimetype": "text/x-python",
   "name": "python",
   "nbconvert_exporter": "python",
   "pygments_lexer": "ipython3",
   "version": "3.7.1"
  }
 },
 "nbformat": 4,
 "nbformat_minor": 2
}
